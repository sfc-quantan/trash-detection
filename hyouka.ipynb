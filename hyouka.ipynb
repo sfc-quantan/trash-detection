{
 "cells": [
  {
   "cell_type": "code",
   "execution_count": 1,
   "metadata": {
    "collapsed": false
   },
   "outputs": [
    {
     "name": "stderr",
     "output_type": "stream",
     "text": [
      "Using TensorFlow backend.\n",
      "/usr/local/src/pyenv/versions/latest_mod/lib/python2.7/site-packages/sklearn/cross_validation.py:44: DeprecationWarning: This module was deprecated in version 0.18 in favor of the model_selection module into which all the refactored classes and functions are moved. Also note that the interface of the new CV iterators are different from that of this module. This module will be removed in 0.20.\n",
      "  \"This module will be removed in 0.20.\", DeprecationWarning)\n"
     ]
    }
   ],
   "source": [
    "%matplotlib inline\n",
    "from keras.preprocessing.image import load_img, img_to_array,array_to_img,ImageDataGenerator\n",
    "import matplotlib.pyplot as Plt\n",
    "import keras\n",
    "from keras import metrics\n",
    "from keras.models import Sequential,Model,load_model,model_from_json\n",
    "from keras.layers import Dense,Activation,Input\n",
    "from keras.layers import Conv2D, Flatten\n",
    "from keras.layers import MaxPooling2D,Dropout\n",
    "import numpy as np\n",
    "import json\n",
    "import pprint\n",
    "from sklearn.cross_validation import train_test_split\n",
    "from keras.preprocessing import image\n",
    "from PIL import Image\n"
   ]
  },
  {
   "cell_type": "code",
   "execution_count": 5,
   "metadata": {
    "collapsed": false
   },
   "outputs": [],
   "source": [
    "k=200\n",
    "width=480\n",
    "height=640\n",
    "\n",
    "gominum=7\n",
    "xywhc=5\n",
    "\n",
    "x=np.load(\"x.npy\")\n",
    "y=np.load(\"y.npy\")\n",
    "\n",
    "\n",
    "x_train, x_test, y_train, y_test = train_test_split(x, y, train_size=0.8)\n",
    "\n",
    "y_xywh_train=np.zeros((len(y_train),gominum,4))\n",
    "y_c_train=np.zeros((len(y_train),gominum))\n",
    "for i in range(len(y_train)):\n",
    "    for j in range(len(y_train[0])):\n",
    "        y_xywh_train[i][j]=y_train[i][j][:4]\n",
    "        if(y_train[i][j][4]==1):\n",
    "            y_c_train[i][j]=1\n",
    "            \n",
    "\n",
    "y_xywh_test=np.zeros((len(y_test),gominum,4))\n",
    "y_c_test=np.zeros((len(y_test),gominum))                      \n",
    "for i in range(len(y_test)):\n",
    "    for j in range(len(y_test[0])):\n",
    "        y_xywh_test[i][j]=y_test[i][j][:4]\n",
    "        if(y_test[i][j][4]==1):\n",
    "            y_c_test[i][j]=1\n",
    " \n",
    "\n",
    "\n",
    "x_train=x_train.astype('float32')/255\n",
    "x_test=x_test.astype('float32')/255\n",
    "#y_train=y_train.reshape(-1,35)\n",
    "#y_test=y_test.reshape(-1,35)\n",
    "y_xywh_train=y_xywh_train.reshape(-1,28)/1000\n",
    "y_xywh_test=y_xywh_test.reshape(-1,28)/1000\n",
    "y_c_train=y_c_train.reshape(-1,7)\n",
    "y_c_test=y_c_test.reshape(-1,7)\n"
   ]
  },
  {
   "cell_type": "code",
   "execution_count": 2,
   "metadata": {
    "collapsed": false
   },
   "outputs": [],
   "source": [
    "model=load_model(\"model.h5\")\n"
   ]
  },
  {
   "cell_type": "code",
   "execution_count": 4,
   "metadata": {
    "collapsed": false
   },
   "outputs": [
    {
     "name": "stdout",
     "output_type": "stream",
     "text": [
      "____________________________________________________________________________________________________\n",
      "Layer (type)                     Output Shape          Param #     Connected to                     \n",
      "====================================================================================================\n",
      "input_1 (InputLayer)             (None, 480, 640, 3)   0                                            \n",
      "____________________________________________________________________________________________________\n",
      "block1_conv1 (Conv2D)            (None, 480, 640, 64)  1792                                         \n",
      "____________________________________________________________________________________________________\n",
      "block1_conv2 (Conv2D)            (None, 480, 640, 64)  36928                                        \n",
      "____________________________________________________________________________________________________\n",
      "block1_pool (MaxPooling2D)       (None, 240, 320, 64)  0                                            \n",
      "____________________________________________________________________________________________________\n",
      "block2_conv1 (Conv2D)            (None, 240, 320, 128) 73856                                        \n",
      "____________________________________________________________________________________________________\n",
      "block2_conv2 (Conv2D)            (None, 240, 320, 128) 147584                                       \n",
      "____________________________________________________________________________________________________\n",
      "block2_pool (MaxPooling2D)       (None, 120, 160, 128) 0                                            \n",
      "____________________________________________________________________________________________________\n",
      "block3_conv1 (Conv2D)            (None, 120, 160, 256) 295168                                       \n",
      "____________________________________________________________________________________________________\n",
      "block3_conv2 (Conv2D)            (None, 120, 160, 256) 590080                                       \n",
      "____________________________________________________________________________________________________\n",
      "block3_conv3 (Conv2D)            (None, 120, 160, 256) 590080                                       \n",
      "____________________________________________________________________________________________________\n",
      "block3_pool (MaxPooling2D)       (None, 60, 80, 256)   0                                            \n",
      "____________________________________________________________________________________________________\n",
      "block4_conv1 (Conv2D)            (None, 60, 80, 512)   1180160                                      \n",
      "____________________________________________________________________________________________________\n",
      "block4_conv2 (Conv2D)            (None, 60, 80, 512)   2359808                                      \n",
      "____________________________________________________________________________________________________\n",
      "block4_conv3 (Conv2D)            (None, 60, 80, 512)   2359808                                      \n",
      "____________________________________________________________________________________________________\n",
      "block4_pool (MaxPooling2D)       (None, 30, 40, 512)   0                                            \n",
      "____________________________________________________________________________________________________\n",
      "block5_conv1 (Conv2D)            (None, 30, 40, 512)   2359808                                      \n",
      "____________________________________________________________________________________________________\n",
      "block5_conv2 (Conv2D)            (None, 30, 40, 512)   2359808                                      \n",
      "____________________________________________________________________________________________________\n",
      "block5_conv3 (Conv2D)            (None, 30, 40, 512)   2359808                                      \n",
      "____________________________________________________________________________________________________\n",
      "block5_pool (MaxPooling2D)       (None, 15, 20, 512)   0                                            \n",
      "____________________________________________________________________________________________________\n",
      "flatten_1 (Flatten)              (None, 153600)        0                                            \n",
      "____________________________________________________________________________________________________\n",
      "dense_1 (Dense)                  (None, 35)            5376035                                      \n",
      "____________________________________________________________________________________________________\n",
      "main_output (Dense)              (None, 28)            1008                                         \n",
      "____________________________________________________________________________________________________\n",
      "side_output (Dense)              (None, 7)             252                                          \n",
      "====================================================================================================\n",
      "Total params: 20,091,983.0\n",
      "Trainable params: 20,091,983.0\n",
      "Non-trainable params: 0.0\n",
      "____________________________________________________________________________________________________\n"
     ]
    }
   ],
   "source": [
    "model.summary()"
   ]
  },
  {
   "cell_type": "code",
   "execution_count": 16,
   "metadata": {
    "collapsed": false
   },
   "outputs": [
    {
     "name": "stdout",
     "output_type": "stream",
     "text": [
      "(1, 480, 640, 3)\n",
      "[array([[ 1.,  0.,  0.,  0.,  0.,  0.,  0.,  0.,  0.,  0.,  0.,  0.,  0.,\n",
      "         0.,  0.,  0.,  0.,  0.,  0.,  0.,  0.,  0.,  0.,  0.,  0.,  0.,\n",
      "         0.,  0.]], dtype=float32), array([[  1.00000000e+00,   7.36142511e-07,   0.00000000e+00,\n",
      "          0.00000000e+00,   0.00000000e+00,   0.00000000e+00,\n",
      "          0.00000000e+00]], dtype=float32)]\n",
      "(array([[ 255.,    0.,    0.,    0.,    0.,    0.,    0.,    0.,    0.,\n",
      "           0.,    0.,    0.,    0.,    0.,    0.,    0.,    0.,    0.,\n",
      "           0.,    0.,    0.,    0.,    0.,    0.,    0.,    0.,    0.,\n",
      "           0.]], dtype=float32), array([[  1.00000000e+00,   7.36142511e-07,   0.00000000e+00,\n",
      "          0.00000000e+00,   0.00000000e+00,   0.00000000e+00,\n",
      "          0.00000000e+00]], dtype=float32))\n"
     ]
    }
   ],
   "source": [
    "#model = model_from_json(open('model.json').read())\n",
    "#model.load_weights('param.hdf5')\n",
    "image = Image.open(\"44.jpg\")\n",
    "data = np.asarray(image, dtype=float)\n",
    "\n",
    "data = data.reshape(1,480,640,3)\n",
    "#input_shape = (width, height, 3)\n",
    "data = data.astype('float32')\n",
    "print(data.shape)\n",
    "\n",
    "print(model.predict(data))\n",
    "y_xywh=model.predict(data)[0]*255\n",
    "y_c=model.predict(data)[1]\n",
    "\n",
    "print(y_xywh,y_c)\n",
    "\n",
    "\n"
   ]
  },
  {
   "cell_type": "code",
   "execution_count": null,
   "metadata": {
    "collapsed": true
   },
   "outputs": [],
   "source": []
  },
  {
   "cell_type": "code",
   "execution_count": null,
   "metadata": {
    "collapsed": true
   },
   "outputs": [],
   "source": []
  }
 ],
 "metadata": {
  "kernelspec": {
   "display_name": "LATEST",
   "language": "python",
   "name": "latest"
  },
  "language_info": {
   "codemirror_mode": {
    "name": "ipython",
    "version": 2
   },
   "file_extension": ".py",
   "mimetype": "text/x-python",
   "name": "python",
   "nbconvert_exporter": "python",
   "pygments_lexer": "ipython2",
   "version": "2.7.12"
  }
 },
 "nbformat": 4,
 "nbformat_minor": 0
}
