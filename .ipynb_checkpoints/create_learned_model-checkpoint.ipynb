{
 "cells": [
  {
   "cell_type": "code",
   "execution_count": null,
   "metadata": {
    "collapsed": true
   },
   "outputs": [],
   "source": [
    "%matplotlib inline\n",
    "from keras.preprocessing.image import load_img, img_to_array,array_to_img,ImageDataGenerator\n",
    "import matplotlib.pyplot as Plt\n",
    "import keras\n",
    "from keras import metrics\n",
    "from keras.models import Sequential,Model,load_model,model_from_json\n",
    "from keras.layers import Dense,Activation,Input\n",
    "from keras.layers import Conv2D, Flatten\n",
    "from keras.layers import MaxPooling2D,Dropout\n",
    "import numpy as np\n",
    "import json\n",
    "import pprint\n",
    "from sklearn.cross_validation import train_test_split\n",
    "from keras.preprocessing import image\n",
    "from PIL import Image\n",
    "import numpy as np\n",
    "import cv2\n"
   ]
  },
  {
   "cell_type": "code",
   "execution_count": null,
   "metadata": {
    "collapsed": true
   },
   "outputs": [],
   "source": [
    "k=200\n",
    "width=480\n",
    "height=640\n",
    "x=np.load(\"x.npy\")\n",
    "y=np.load(\"y.npy\")\n",
    "\n",
    "gominum=7\n",
    "xywhc=5\n",
    "model = model_from_json(open('model.json').read())\n",
    "model.load_weights('param.hdf5')\n",
    "image = Image.open(\"44.jpg\")\n",
    "data = np.asarray(image, dtype=float)\n",
    "\n",
    "data = data.reshape(1,width,height,3)\n",
    "input_shape = (width, height, 3)\n",
    "data = data.astype('float32')\n",
    "\n",
    "outputs=model.predict(data)\n",
    "y_xywh=np.array(outputs[0]).reshape(7,4)\n",
    "y_c=np.array(outputs[1])\n",
    "\n",
    "#リスク分散：分析：FTA:FMEA\n",
    "\n"
   ]
  }
 ],
 "metadata": {
  "kernelspec": {
   "display_name": "Python [tf]",
   "language": "python",
   "name": "Python [tf]"
  },
  "language_info": {
   "codemirror_mode": {
    "name": "ipython",
    "version": 3
   },
   "file_extension": ".py",
   "mimetype": "text/x-python",
   "name": "python",
   "nbconvert_exporter": "python",
   "pygments_lexer": "ipython3",
   "version": "3.5.1"
  }
 },
 "nbformat": 4,
 "nbformat_minor": 0
}
