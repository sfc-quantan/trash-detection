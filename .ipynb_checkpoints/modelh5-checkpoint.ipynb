{
 "cells": [
  {
   "cell_type": "code",
   "execution_count": 3,
   "metadata": {
    "collapsed": false
   },
   "outputs": [],
   "source": [
    "%matplotlib inline\n",
    "from keras.preprocessing.image import load_img, img_to_array,array_to_img,ImageDataGenerator\n",
    "import matplotlib.pyplot as Plt\n",
    "import keras\n",
    "from keras import metrics\n",
    "from keras.models import Sequential,Model,load_model,model_from_json\n",
    "from keras.layers import Dense,Activation,Input\n",
    "from keras.layers import Conv2D, Flatten\n",
    "from keras.layers import MaxPooling2D,Dropout\n",
    "import numpy as np\n",
    "import json\n",
    "import pprint\n",
    "from sklearn.cross_validation import train_test_split\n",
    "from keras.applications.vgg16 import VGG16\n"
   ]
  },
  {
   "cell_type": "code",
   "execution_count": null,
   "metadata": {
    "collapsed": false
   },
   "outputs": [],
   "source": [
    "model=load_model(\"model.h5\")\n",
    "model.summary()"
   ]
  },
  {
   "cell_type": "code",
   "execution_count": null,
   "metadata": {
    "collapsed": true
   },
   "outputs": [],
   "source": [
    "\n",
    "x=np.load(\"x.npy\")\n",
    "y=np.load(\"y.npy\")\n",
    "x_train, x_test, y_train, y_test = train_test_split(x, y, train_size=0.8)\n",
    "\n",
    "\n",
    "y_xywh_train=np.zeros((len(y_train),gominum,4))\n",
    "y_c_train=np.zeros((len(y_train),gominum))\n",
    "for i in range(len(y_train)):\n",
    "    for j in range(len(y_train[0])):\n",
    "        y_xywh_train[i][j]=y_train[i][j][:4]\n",
    "        if(y_train[i][j][4]==1):\n",
    "            y_c_train[i][j]=1\n",
    "            \n",
    "\n",
    "y_xywh_test=np.zeros((len(y_test),gominum,4))\n",
    "y_c_test=np.zeros((len(y_test),gominum))                      \n",
    "for i in range(len(y_test)):\n",
    "    for j in range(len(y_test[0])):\n",
    "        y_xywh_test[i][j]=y_test[i][j][:4]\n",
    "        if(y_test[i][j][4]==1):\n",
    "            y_c_test[i][j]=1\n",
    " \n",
    "\n",
    "\n",
    "x_train=x_train.astype('float32')/255\n",
    "x_test=x_test.astype('float32')/255\n",
    "#y_train=y_train.reshape(-1,35)\n",
    "#y_test=y_test.reshape(-1,35)\n",
    "y_xywh_train=y_xywh_train.reshape(-1,28)/255\n",
    "y_xywh_test=y_xywh_test.reshape(-1,28)/255\n",
    "\n",
    "y_c_train=y_c_train.reshape(-1,7)\n",
    "y_c_test=y_c_test.reshape(-1,7)\n"
   ]
  },
  {
   "cell_type": "code",
   "execution_count": null,
   "metadata": {
    "collapsed": false
   },
   "outputs": [],
   "source": [
    "model.compile(optimizer=\"sgd\",loss={'main_output': 'mean_squared_error', 'side_output': 'binary_crossentropy'},\n",
    "              metrics={'main_output': 'mae', 'side_output': 'accuracy'})"
   ]
  },
  {
   "cell_type": "code",
   "execution_count": null,
   "metadata": {
    "collapsed": false
   },
   "outputs": [],
   "source": [
    "model.fit(x=x_train,y=[y_xywh_train,y_c_train],batch_size=batch_size,epochs=epoch,verbose=1,\n",
    "          validation_data=(x_test,[y_xywh_test,y_c_test]))\n",
    "model.evaluate(x_test,[y_xywh_test,y_c_test],verbose=1)\n",
    "\n"
   ]
  },
  {
   "cell_type": "code",
   "execution_count": null,
   "metadata": {
    "collapsed": true
   },
   "outputs": [],
   "source": [
    "json_string = model.to_json()\n",
    "open('model.json', 'w').write(json_string)\n",
    "model.save('model.h5') \n",
    "model.save_weights('param.hdf5')"
   ]
  }
 ],
 "metadata": {
  "kernelspec": {
   "display_name": "LATEST",
   "language": "python",
   "name": "latest"
  },
  "language_info": {
   "codemirror_mode": {
    "name": "ipython",
    "version": 2
   },
   "file_extension": ".py",
   "mimetype": "text/x-python",
   "name": "python",
   "nbconvert_exporter": "python",
   "pygments_lexer": "ipython2",
   "version": "2.7.12"
  }
 },
 "nbformat": 4,
 "nbformat_minor": 2
}
