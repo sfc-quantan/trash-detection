{
 "cells": [
  {
   "cell_type": "code",
   "execution_count": 1,
   "metadata": {
    "collapsed": true
   },
   "outputs": [],
   "source": [
    "k=1367\n",
    "width=480\n",
    "height=640\n",
    "k=300\n",
    "gominum=7\n",
    "xywhc=5"
   ]
  },
  {
   "cell_type": "code",
   "execution_count": 2,
   "metadata": {
    "collapsed": false
   },
   "outputs": [
    {
     "name": "stderr",
     "output_type": "stream",
     "text": [
      "Using TensorFlow backend.\n"
     ]
    }
   ],
   "source": [
    "import numpy as np\n",
    "import matplotlib.pyplot as Plt\n",
    "import json\n",
    "import cv2\n",
    "import keras"
   ]
  },
  {
   "cell_type": "code",
   "execution_count": 3,
   "metadata": {
    "collapsed": false
   },
   "outputs": [
    {
     "name": "stdout",
     "output_type": "stream",
     "text": [
      "(1367, 480, 640, 3)\n"
     ]
    }
   ],
   "source": [
    "k=1367\n",
    "\n",
    "width=480\n",
    "height=640\n",
    "\n",
    "gominum=7\n",
    "xywhc=5\n",
    "y=np.zeros((k,gominum,xywhc))\n",
    "\n",
    "x=np.arange(k*width*height*3).reshape(k,width,height,3)\n",
    "print(x.shape)\n",
    "for i in range(1,k+1):\n",
    "    #img=Plt.imread(\"/Users/quantan/Downloads/1/\"+str(i)+\".jpg\")\n",
    "    img=Plt.imread(\"/home/quantan/notebooks/workspace/1/\"+str(i)+\".jpg\")\n",
    "    \n",
    "    x[i-1]=img\n",
    "\n",
    "for i in range(1,k+1):\n",
    "    #f=open(\"/Users/quantan/Downloads/1/annotations/\"+str(i)+\".json\",\"r\")\n",
    "    f=open(\"/home/quantan/notebooks/workspace/1/annotations/\"+str(i)+\".json\",\"r\")\n",
    "    json_dict=json.load(f)\n",
    "    #pprint.pprint(json_dict)\n",
    "    tmp = len(json_dict[\"objects\"])    \n",
    "    for j in range(tmp):\n",
    "        y[i-1][j]=json_dict[\"objects\"][j][\"x_y_w_h\"]+[1]\n",
    "#pprint.pprint(y)\n",
    "          \n",
    "np.save('x-s.npy', x)\n",
    "np.save('y-s.npy', y)"
   ]
  },
  {
   "cell_type": "code",
   "execution_count": 4,
   "metadata": {
    "collapsed": true
   },
   "outputs": [],
   "source": [
    "z=np.zeros(k)\n",
    "for i in range(1,k+1):\n",
    "    #f=open(\"/Users/quantan/Downloads/1/annotations/\"+str(i)+\".json\",\"r\")\n",
    "    f=open(\"/home/quantan/notebooks/workspace/1/annotations/\"+str(i)+\".json\",\"r\")\n",
    "    json_dict=json.load(f)\n",
    "    #pprint.pprint(json_dict)\n",
    "    z[i-1]= int(len(json_dict[\"objects\"]))\n",
    "np.save('z.npy',z)\n"
   ]
  },
  {
   "cell_type": "code",
   "execution_count": 12,
   "metadata": {
    "collapsed": false
   },
   "outputs": [
    {
     "name": "stdout",
     "output_type": "stream",
     "text": [
      "(300,)\n",
      "(1.0, array([ 0.,  1.,  0.,  0.,  0.,  0.,  0.,  0.]))\n"
     ]
    }
   ],
   "source": [
    "print(z.shape)\n",
    "z2=keras.utils.to_categorical(z, 8)\n",
    "print(z[5],z2[5])"
   ]
  },
  {
   "cell_type": "code",
   "execution_count": 12,
   "metadata": {
    "collapsed": false
   },
   "outputs": [],
   "source": [
    "number_of_data=1061\n",
    "testdate=np.zeros((number_of_data,width,height,3))\n",
    "for i in range(number_of_data):\n",
    "    img=Plt.imread(\"/home/quantan/notebooks/workspace/out/\"+str(i)+\".jpg\")\n",
    "    testdate[i]=img\n",
    "\n",
    "np.save('testdata.npy', testdate)"
   ]
  },
  {
   "cell_type": "code",
   "execution_count": 8,
   "metadata": {
    "collapsed": false
   },
   "outputs": [],
   "source": [
    "\n",
    "color = (255, 255, 255)\n",
    "cap = cv2.VideoCapture(\"/home/quantan/notebooks/workspace/back_REC_161028_082112.avi\")\n",
    "count=0\n",
    "while(cap.isOpened()):\n",
    "    ret, frame = cap.read()   \n",
    "    if(ret==False):\n",
    "        break\n",
    "    \n",
    "    #gray = cv2.cvtColor(frame, cv2.COLOR_BGR2GRAY)\n",
    "    #faces = cascade.detectMultiScale(gray,scaleFactor=1.1,minNeighbors=5,minSize=(30, 30),flags = cv2.CASCADE_SCALE_IMAGE)\n",
    "    #cv2.rectangle(frame,tuple((int(x-(w/2)),int(y-(h/2)))),tuple((int(x+(w/2)),int(y+(h/2)))),color,thickness=2)\n",
    "\n",
    "\n",
    "    #if len(faces) != 0:\n",
    "    #検出した顔を囲む矩形の作成\n",
    "        #for rect in faces:\n",
    "            #print(tuple(rect[0:2]),tuple(rect[0:2]+rect[2:4]),print(rect))\n",
    "            #cv2.rectangle(frame, tuple(rect[0:2]),tuple(rect[0:2]+rect[2:4]), color, thickness=2)\n",
    "            #cv2.rectangle(frame,tuple((int(x-(w/2)),int(y-(h/2)))),tuple((int(x+(w/2)),int(y+(h/2)))),color,thickness=2)\n",
    "            \n",
    "         \n",
    "        \n",
    "\n",
    "\n",
    "    #cv2.imshow(\"hello\",frame)\n",
    "    cv2.imwrite('out/{0:04d}.png'.format(count),frame)\n",
    "    count=1+count\n",
    "   \n",
    "    #code = cv2.waitKey(1)\n",
    "    #if code == ord(\"q\"):\n",
    "    \n",
    "    \n",
    "\n",
    "cap.release()\n",
    "cv2.destroyAllWindows()"
   ]
  },
  {
   "cell_type": "code",
   "execution_count": 10,
   "metadata": {
    "collapsed": false
   },
   "outputs": [
    {
     "name": "stdout",
     "output_type": "stream",
     "text": [
      "(300, 7, 5)\n",
      "(array([[ 421.745  ,  381.6237 ,   94.11381,   83.8207 ,    1.     ],\n",
      "       [ 505.6502 ,  354.698  ,   47.18541,   68.47316,    1.     ],\n",
      "       [ 216.0654 ,  302.7433 ,   94.21142,  113.4941 ,    1.     ],\n",
      "       [   0.     ,    0.     ,    0.     ,    0.     ,    0.     ],\n",
      "       [   0.     ,    0.     ,    0.     ,    0.     ,    0.     ],\n",
      "       [   0.     ,    0.     ,    0.     ,    0.     ,    0.     ],\n",
      "       [   0.     ,    0.     ,    0.     ,    0.     ,    0.     ]]), 3.0)\n",
      "(array([[ 508.3347 ,  309.2282 ,   40.60822,   54.73574,    1.     ],\n",
      "       [ 409.7399 ,  250.1174 ,   51.54364,   49.34564,    1.     ],\n",
      "       [   0.     ,    0.     ,    0.     ,    0.     ,    0.     ],\n",
      "       [   0.     ,    0.     ,    0.     ,    0.     ,    0.     ],\n",
      "       [   0.     ,    0.     ,    0.     ,    0.     ,    0.     ],\n",
      "       [   0.     ,    0.     ,    0.     ,    0.     ,    0.     ],\n",
      "       [   0.     ,    0.     ,    0.     ,    0.     ,    0.     ]]), 2.0)\n",
      "(array([[ 475.4446,  345.5872,  144.9539,  107.7643,    1.    ],\n",
      "       [   0.    ,    0.    ,    0.    ,    0.    ,    0.    ],\n",
      "       [   0.    ,    0.    ,    0.    ,    0.    ,    0.    ],\n",
      "       [   0.    ,    0.    ,    0.    ,    0.    ,    0.    ],\n",
      "       [   0.    ,    0.    ,    0.    ,    0.    ,    0.    ],\n",
      "       [   0.    ,    0.    ,    0.    ,    0.    ,    0.    ],\n",
      "       [   0.    ,    0.    ,    0.    ,    0.    ,    0.    ]]), 1.0)\n",
      "(array([[ 196.5898 ,  304.1233 ,  110.8725 ,  145.3523 ,    1.     ],\n",
      "       [  83.16695,  285.1007 ,  114.2869 ,  151.3213 ,    1.     ],\n",
      "       [   0.     ,    0.     ,    0.     ,    0.     ,    0.     ],\n",
      "       [   0.     ,    0.     ,    0.     ,    0.     ,    0.     ],\n",
      "       [   0.     ,    0.     ,    0.     ,    0.     ,    0.     ],\n",
      "       [   0.     ,    0.     ,    0.     ,    0.     ,    0.     ],\n",
      "       [   0.     ,    0.     ,    0.     ,    0.     ,    0.     ]]), 2.0)\n",
      "(array([[ 114.3037 ,  376.8372 ,  139.4883 ,  102.0847 ,    1.     ],\n",
      "       [  96.68204,  299.0059 ,  149.8028 ,  125.6628 ,    1.     ],\n",
      "       [   0.     ,    0.     ,    0.     ,    0.     ,    0.     ],\n",
      "       [   0.     ,    0.     ,    0.     ,    0.     ,    0.     ],\n",
      "       [   0.     ,    0.     ,    0.     ,    0.     ,    0.     ],\n",
      "       [   0.     ,    0.     ,    0.     ,    0.     ,    0.     ],\n",
      "       [   0.     ,    0.     ,    0.     ,    0.     ,    0.     ]]), 2.0)\n",
      "(array([[ 493.1124 ,  285.3775 ,   38.58223,   52.83976,    1.     ],\n",
      "       [   0.     ,    0.     ,    0.     ,    0.     ,    0.     ],\n",
      "       [   0.     ,    0.     ,    0.     ,    0.     ,    0.     ],\n",
      "       [   0.     ,    0.     ,    0.     ,    0.     ,    0.     ],\n",
      "       [   0.     ,    0.     ,    0.     ,    0.     ,    0.     ],\n",
      "       [   0.     ,    0.     ,    0.     ,    0.     ,    0.     ],\n",
      "       [   0.     ,    0.     ,    0.     ,    0.     ,    0.     ]]), 1.0)\n",
      "(array([[ 132.0638 ,  256.3591 ,   56.95892,   77.58389,    1.     ],\n",
      "       [  96.90855,  384.4044 ,   63.27602,   56.22903,    1.     ],\n",
      "       [   0.     ,    0.     ,    0.     ,    0.     ,    0.     ],\n",
      "       [   0.     ,    0.     ,    0.     ,    0.     ,    0.     ],\n",
      "       [   0.     ,    0.     ,    0.     ,    0.     ,    0.     ],\n",
      "       [   0.     ,    0.     ,    0.     ,    0.     ,    0.     ],\n",
      "       [   0.     ,    0.     ,    0.     ,    0.     ,    0.     ]]), 2.0)\n",
      "(array([[  54.11913,  306.1367 ,   42.51258,   64.89513,    1.     ],\n",
      "       [  84.62248,  271.3129 ,   52.62584,   60.10487,    1.     ],\n",
      "       [   0.     ,    0.     ,    0.     ,    0.     ,    0.     ],\n",
      "       [   0.     ,    0.     ,    0.     ,    0.     ,    0.     ],\n",
      "       [   0.     ,    0.     ,    0.     ,    0.     ,    0.     ],\n",
      "       [   0.     ,    0.     ,    0.     ,    0.     ,    0.     ],\n",
      "       [   0.     ,    0.     ,    0.     ,    0.     ,    0.     ]]), 2.0)\n",
      "(array([[ 226.6695 ,  279.2953 ,   45.75922,   49.12332,    1.     ],\n",
      "       [   0.     ,    0.     ,    0.     ,    0.     ,    0.     ],\n",
      "       [   0.     ,    0.     ,    0.     ,    0.     ,    0.     ],\n",
      "       [   0.     ,    0.     ,    0.     ,    0.     ,    0.     ],\n",
      "       [   0.     ,    0.     ,    0.     ,    0.     ,    0.     ],\n",
      "       [   0.     ,    0.     ,    0.     ,    0.     ,    0.     ],\n",
      "       [   0.     ,    0.     ,    0.     ,    0.     ,    0.     ]]), 1.0)\n",
      "(array([[ 494.15   ,  321.1985 ,   60.88863,   65.94489,    1.     ],\n",
      "       [ 394.7483 ,  261.703  ,   52.12668,   48.58641,    1.     ],\n",
      "       [   0.     ,    0.     ,    0.     ,    0.     ,    0.     ],\n",
      "       [   0.     ,    0.     ,    0.     ,    0.     ,    0.     ],\n",
      "       [   0.     ,    0.     ,    0.     ,    0.     ,    0.     ],\n",
      "       [   0.     ,    0.     ,    0.     ,    0.     ,    0.     ],\n",
      "       [   0.     ,    0.     ,    0.     ,    0.     ,    0.     ]]), 2.0)\n",
      "(array([[ 549.1485 ,  193.8129 ,   51.38843,   46.82048,    1.     ],\n",
      "       [ 466.8205 ,  178.3725 ,   45.33976,   48.40604,    1.     ],\n",
      "       [   0.     ,    0.     ,    0.     ,    0.     ,    0.     ],\n",
      "       [   0.     ,    0.     ,    0.     ,    0.     ,    0.     ],\n",
      "       [   0.     ,    0.     ,    0.     ,    0.     ,    0.     ],\n",
      "       [   0.     ,    0.     ,    0.     ,    0.     ,    0.     ],\n",
      "       [   0.     ,    0.     ,    0.     ,    0.     ,    0.     ]]), 2.0)\n",
      "(array([[ 479.8406,  290.969 ,  110.2349,  145.969 ,    1.    ],\n",
      "       [   0.    ,    0.    ,    0.    ,    0.    ,    0.    ],\n",
      "       [   0.    ,    0.    ,    0.    ,    0.    ,    0.    ],\n",
      "       [   0.    ,    0.    ,    0.    ,    0.    ,    0.    ],\n",
      "       [   0.    ,    0.    ,    0.    ,    0.    ,    0.    ],\n",
      "       [   0.    ,    0.    ,    0.    ,    0.    ,    0.    ],\n",
      "       [   0.    ,    0.    ,    0.    ,    0.    ,    0.    ]]), 1.0)\n",
      "(array([[ 533.0746  ,  287.953   ,   63.2802  ,   59.66443 ,    1.      ],\n",
      "       [   8.250839,  219.5302  ,  101.8414  ,  218.9765  ,    1.      ],\n",
      "       [   0.      ,    0.      ,    0.      ,    0.      ,    0.      ],\n",
      "       [   0.      ,    0.      ,    0.      ,    0.      ,    0.      ],\n",
      "       [   0.      ,    0.      ,    0.      ,    0.      ,    0.      ],\n",
      "       [   0.      ,    0.      ,    0.      ,    0.      ,    0.      ],\n",
      "       [   0.      ,    0.      ,    0.      ,    0.      ,    0.      ]]), 2.0)\n"
     ]
    }
   ],
   "source": [
    "z=np.load(\"z.npy\")\n",
    "y=np.load(\"y.npy\")\n",
    "print(y.shape)\n",
    "for i in range(13):\n",
    "    count=0\n",
    "    print(y[i],z[i])\n",
    "    "
   ]
  },
  {
   "cell_type": "code",
   "execution_count": null,
   "metadata": {
    "collapsed": true
   },
   "outputs": [],
   "source": []
  }
 ],
 "metadata": {
  "anaconda-cloud": {},
  "kernelspec": {
   "display_name": "LATEST",
   "language": "python",
   "name": "latest"
  },
  "language_info": {
   "codemirror_mode": {
    "name": "ipython",
    "version": 2
   },
   "file_extension": ".py",
   "mimetype": "text/x-python",
   "name": "python",
   "nbconvert_exporter": "python",
   "pygments_lexer": "ipython2",
   "version": "2.7.12"
  }
 },
 "nbformat": 4,
 "nbformat_minor": 0
}
