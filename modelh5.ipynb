{
 "cells": [
  {
   "cell_type": "code",
   "execution_count": 1,
   "metadata": {
    "collapsed": false
   },
   "outputs": [
    {
     "name": "stderr",
     "output_type": "stream",
     "text": [
      "Using TensorFlow backend.\n",
      "/usr/local/src/pyenv/versions/latest_mod/lib/python2.7/site-packages/sklearn/cross_validation.py:44: DeprecationWarning: This module was deprecated in version 0.18 in favor of the model_selection module into which all the refactored classes and functions are moved. Also note that the interface of the new CV iterators are different from that of this module. This module will be removed in 0.20.\n",
      "  \"This module will be removed in 0.20.\", DeprecationWarning)\n"
     ]
    }
   ],
   "source": [
    "%matplotlib inline\n",
    "from keras.preprocessing.image import load_img, img_to_array,array_to_img,ImageDataGenerator\n",
    "import matplotlib.pyplot as Plt\n",
    "import keras\n",
    "from keras import metrics\n",
    "from keras.models import Sequential,Model,load_model,model_from_json\n",
    "from keras.layers import Dense,Activation,Input\n",
    "from keras.layers import Conv2D, Flatten\n",
    "from keras.layers import MaxPooling2D,Dropout\n",
    "import numpy as np\n",
    "import json\n",
    "import pprint\n",
    "from sklearn.cross_validation import train_test_split\n",
    "from keras.applications.vgg16 import VGG16\n"
   ]
  },
  {
   "cell_type": "code",
   "execution_count": 2,
   "metadata": {
    "collapsed": false
   },
   "outputs": [
    {
     "name": "stdout",
     "output_type": "stream",
     "text": [
      "____________________________________________________________________________________________________\n",
      "Layer (type)                     Output Shape          Param #     Connected to                     \n",
      "====================================================================================================\n",
      "input_1 (InputLayer)             (None, 480, 640, 3)   0                                            \n",
      "____________________________________________________________________________________________________\n",
      "block1_conv1 (Conv2D)            (None, 480, 640, 64)  1792                                         \n",
      "____________________________________________________________________________________________________\n",
      "block1_conv2 (Conv2D)            (None, 480, 640, 64)  36928                                        \n",
      "____________________________________________________________________________________________________\n",
      "block1_pool (MaxPooling2D)       (None, 240, 320, 64)  0                                            \n",
      "____________________________________________________________________________________________________\n",
      "block2_conv1 (Conv2D)            (None, 240, 320, 128) 73856                                        \n",
      "____________________________________________________________________________________________________\n",
      "block2_conv2 (Conv2D)            (None, 240, 320, 128) 147584                                       \n",
      "____________________________________________________________________________________________________\n",
      "block2_pool (MaxPooling2D)       (None, 120, 160, 128) 0                                            \n",
      "____________________________________________________________________________________________________\n",
      "block3_conv1 (Conv2D)            (None, 120, 160, 256) 295168                                       \n",
      "____________________________________________________________________________________________________\n",
      "block3_conv2 (Conv2D)            (None, 120, 160, 256) 590080                                       \n",
      "____________________________________________________________________________________________________\n",
      "block3_conv3 (Conv2D)            (None, 120, 160, 256) 590080                                       \n",
      "____________________________________________________________________________________________________\n",
      "block3_pool (MaxPooling2D)       (None, 60, 80, 256)   0                                            \n",
      "____________________________________________________________________________________________________\n",
      "block4_conv1 (Conv2D)            (None, 60, 80, 512)   1180160                                      \n",
      "____________________________________________________________________________________________________\n",
      "block4_conv2 (Conv2D)            (None, 60, 80, 512)   2359808                                      \n",
      "____________________________________________________________________________________________________\n",
      "block4_conv3 (Conv2D)            (None, 60, 80, 512)   2359808                                      \n",
      "____________________________________________________________________________________________________\n",
      "block4_pool (MaxPooling2D)       (None, 30, 40, 512)   0                                            \n",
      "____________________________________________________________________________________________________\n",
      "block5_conv1 (Conv2D)            (None, 30, 40, 512)   2359808                                      \n",
      "____________________________________________________________________________________________________\n",
      "block5_conv2 (Conv2D)            (None, 30, 40, 512)   2359808                                      \n",
      "____________________________________________________________________________________________________\n",
      "block5_conv3 (Conv2D)            (None, 30, 40, 512)   2359808                                      \n",
      "____________________________________________________________________________________________________\n",
      "block5_pool (MaxPooling2D)       (None, 15, 20, 512)   0                                            \n",
      "____________________________________________________________________________________________________\n",
      "flatten_1 (Flatten)              (None, 153600)        0                                            \n",
      "____________________________________________________________________________________________________\n",
      "dense_1 (Dense)                  (None, 64)            9830464                                      \n",
      "____________________________________________________________________________________________________\n",
      "dense_2 (Dense)                  (None, 64)            4160                                         \n",
      "____________________________________________________________________________________________________\n",
      "main_output (Dense)              (None, 28)            1820                                         \n",
      "____________________________________________________________________________________________________\n",
      "side_output (Dense)              (None, 7)             455                                          \n",
      "====================================================================================================\n",
      "Total params: 24,551,587.0\n",
      "Trainable params: 24,551,587.0\n",
      "Non-trainable params: 0.0\n",
      "____________________________________________________________________________________________________\n"
     ]
    }
   ],
   "source": [
    "model=load_model(\"model.h5\")\n",
    "model.summary()\n"
   ]
  },
  {
   "cell_type": "code",
   "execution_count": 8,
   "metadata": {
    "collapsed": true
   },
   "outputs": [],
   "source": [
    "\n",
    "k=1367\n",
    "width=480\n",
    "height=640\n",
    "\n",
    "gominum=7\n",
    "xywhc=5\n",
    "batch_size=1\n",
    "epochs=10\n",
    "\n"
   ]
  },
  {
   "cell_type": "code",
   "execution_count": 5,
   "metadata": {
    "collapsed": false
   },
   "outputs": [],
   "source": [
    "\n",
    "x=np.load(\"x.npy\")\n",
    "y=np.load(\"y.npy\")\n",
    "x_train, x_test, y_train, y_test = train_test_split(x, y, train_size=0.8)\n",
    "\n",
    "\n",
    "y_xywh_train=np.zeros((len(y_train),gominum,4))\n",
    "y_c_train=np.zeros((len(y_train),gominum))\n",
    "for i in range(len(y_train)):\n",
    "    for j in range(len(y_train[0])):\n",
    "        y_xywh_train[i][j]=y_train[i][j][:4]\n",
    "        if(y_train[i][j][4]==1):\n",
    "            y_c_train[i][j]=1\n",
    "            \n",
    "\n",
    "y_xywh_test=np.zeros((len(y_test),gominum,4))\n",
    "y_c_test=np.zeros((len(y_test),gominum))                      \n",
    "for i in range(len(y_test)):\n",
    "    for j in range(len(y_test[0])):\n",
    "        y_xywh_test[i][j]=y_test[i][j][:4]\n",
    "        if(y_test[i][j][4]==1):\n",
    "            y_c_test[i][j]=1\n",
    " \n",
    "\n",
    "\n",
    "x_train=x_train.astype('float32')/255\n",
    "x_test=x_test.astype('float32')/255\n",
    "#y_train=y_train.reshape(-1,35)\n",
    "#y_test=y_test.reshape(-1,35)\n",
    "y_xywh_train=y_xywh_train.reshape(-1,28)/255\n",
    "y_xywh_test=y_xywh_test.reshape(-1,28)/255\n",
    "\n",
    "y_c_train=y_c_train.reshape(-1,7)\n",
    "y_c_test=y_c_test.reshape(-1,7)\n"
   ]
  },
  {
   "cell_type": "code",
   "execution_count": 6,
   "metadata": {
    "collapsed": false
   },
   "outputs": [],
   "source": [
    "model.compile(optimizer=\"sgd\",loss={'main_output': 'mean_squared_error', 'side_output': 'binary_crossentropy'},\n",
    "              metrics={'main_output': 'mae', 'side_output': 'accuracy'})"
   ]
  },
  {
   "cell_type": "code",
   "execution_count": 9,
   "metadata": {
    "collapsed": false
   },
   "outputs": [
    {
     "ename": "NameError",
     "evalue": "name 'epoch' is not defined",
     "output_type": "error",
     "traceback": [
      "\u001b[0;31m\u001b[0m",
      "\u001b[0;31mNameError\u001b[0mTraceback (most recent call last)",
      "\u001b[0;32m<ipython-input-9-9c206319a7a0>\u001b[0m in \u001b[0;36m<module>\u001b[0;34m()\u001b[0m\n\u001b[0;32m----> 1\u001b[0;31m model.fit(x=x_train,y=[y_xywh_train,y_c_train],batch_size=batch_size,epochs=epoch,verbose=1,\n\u001b[0m\u001b[1;32m      2\u001b[0m           validation_data=(x_test,[y_xywh_test,y_c_test]))\n\u001b[1;32m      3\u001b[0m \u001b[0mmodel\u001b[0m\u001b[0;34m.\u001b[0m\u001b[0mevaluate\u001b[0m\u001b[0;34m(\u001b[0m\u001b[0mx_test\u001b[0m\u001b[0;34m,\u001b[0m\u001b[0;34m[\u001b[0m\u001b[0my_xywh_test\u001b[0m\u001b[0;34m,\u001b[0m\u001b[0my_c_test\u001b[0m\u001b[0;34m]\u001b[0m\u001b[0;34m,\u001b[0m\u001b[0mverbose\u001b[0m\u001b[0;34m=\u001b[0m\u001b[0;36m1\u001b[0m\u001b[0;34m)\u001b[0m\u001b[0;34m\u001b[0m\u001b[0m\n\u001b[1;32m      4\u001b[0m \u001b[0;34m\u001b[0m\u001b[0m\n",
      "\u001b[0;31mNameError\u001b[0m: name 'epoch' is not defined"
     ]
    }
   ],
   "source": [
    "model.fit(x=x_train,y=[y_xywh_train,y_c_train],batch_size=batch_size,epochs=epoch,verbose=1,\n",
    "          validation_data=(x_test,[y_xywh_test,y_c_test]))\n",
    "model.evaluate(x_test,[y_xywh_test,y_c_test],verbose=1)\n",
    "\n"
   ]
  },
  {
   "cell_type": "code",
   "execution_count": null,
   "metadata": {
    "collapsed": true
   },
   "outputs": [],
   "source": [
    "json_string = model.to_json()\n",
    "open('model.json', 'w').write(json_string)\n",
    "model.save('model.h5') \n",
    "model.save_weights('param.hdf5')"
   ]
  },
  {
   "cell_type": "code",
   "execution_count": null,
   "metadata": {
    "collapsed": true
   },
   "outputs": [],
   "source": []
  }
 ],
 "metadata": {
  "kernelspec": {
   "display_name": "LATEST",
   "language": "python",
   "name": "latest"
  },
  "language_info": {
   "codemirror_mode": {
    "name": "ipython",
    "version": 2
   },
   "file_extension": ".py",
   "mimetype": "text/x-python",
   "name": "python",
   "nbconvert_exporter": "python",
   "pygments_lexer": "ipython2",
   "version": "2.7.12"
  }
 },
 "nbformat": 4,
 "nbformat_minor": 2
}
